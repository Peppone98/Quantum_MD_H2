{
 "cells": [
  {
   "cell_type": "markdown",
   "id": "328c5efe",
   "metadata": {},
   "source": [
    "# DFT for H2 molecule"
   ]
  },
  {
   "cell_type": "markdown",
   "id": "0b5c54c3",
   "metadata": {},
   "source": [
    "The idea is to write down 3 equations that must be solved with Numerov. Remember that we are using atomic units."
   ]
  },
  {
   "cell_type": "markdown",
   "id": "7d4ee6ba",
   "metadata": {},
   "source": [
    "$$ \\left[-\\frac{1}{2}\\nabla^2+V_{\\text{eff}}(\\mathbf{r})\\right]\\psi_i(\\mathbf{r})=\\varepsilon_i\\psi_i(\\mathbf{r}) $$"
   ]
  },
  {
   "cell_type": "markdown",
   "id": "ed1efe15",
   "metadata": {},
   "source": [
    "$$ \\left[-\\frac{1}{2}\\frac{\\partial^2}{\\partial x^2}+V_{\\text{eff}}(x, y, z)\\right]\\psi_i(x, y, z)=\\varepsilon_i\\psi_i(x, y, z) \\\\\n",
    "\\left[-\\frac{1}{2}\\frac{\\partial^2}{\\partial y^2}+V_{\\text{eff}}(x, y, z)\\right]\\psi_i(x, y, z)=\\varepsilon_i\\psi_i(x, y, z)\\\\\n",
    "\\left[-\\frac{1}{2}\\frac{\\partial^2}{\\partial z^2}+V_{\\text{eff}}(x, y, z)\\right]\\psi_i(x, y, z)=\\varepsilon_i\\psi_i(x, y, z)$$"
   ]
  },
  {
   "cell_type": "markdown",
   "id": "83042745",
   "metadata": {},
   "source": [
    "First, we can test the thing by fixing both $y$ and $z$. "
   ]
  }
 ],
 "metadata": {
  "kernelspec": {
   "display_name": "Python 3 (ipykernel)",
   "language": "python",
   "name": "python3"
  },
  "language_info": {
   "codemirror_mode": {
    "name": "ipython",
    "version": 3
   },
   "file_extension": ".py",
   "mimetype": "text/x-python",
   "name": "python",
   "nbconvert_exporter": "python",
   "pygments_lexer": "ipython3",
   "version": "3.8.1"
  }
 },
 "nbformat": 4,
 "nbformat_minor": 5
}
