{
 "cells": [
  {
   "cell_type": "markdown",
   "id": "6e0a31f4",
   "metadata": {},
   "source": [
    "# HF for H2 molecule"
   ]
  },
  {
   "attachments": {},
   "cell_type": "markdown",
   "id": "7852ae65",
   "metadata": {},
   "source": [
    "We use the GTO basis set. In H2 there are two spin-orbitals with opposite spin and the sme orbital part. "
   ]
  },
  {
   "attachments": {},
   "cell_type": "markdown",
   "id": "603dd028",
   "metadata": {},
   "source": [
    "$$H=\\sum_{i}^Nh(i)+\\sum_{i<j}^Ng(i, j)+\\frac{1}{X}=\\sum_{i=1}^{2}h(i)+\\frac{1}{|\\mathbf{r}_1-\\mathbf{r}_2|}+\\frac{1}{X}$$"
   ]
  },
  {
   "attachments": {},
   "cell_type": "markdown",
   "id": "c1322332",
   "metadata": {},
   "source": [
    "where $h(i)$ contains the kinetic energy operator and the electron-ion interaction. Now, the starting point is to evaluate the energy as $\\langle \\psi|H|\\psi \\rangle$, where $\\psi$ is a Slater determinant of the single-particle orbitals $\\varphi_i$. In our case, the electrons occupy the 1s orbitals and cannot have the same spin (as in Helium), so the exchange term vanishes. "
   ]
  },
  {
   "attachments": {},
   "cell_type": "markdown",
   "id": "4be3e6a9",
   "metadata": {},
   "source": [
    "$$E_{tot}[\\psi]=\\sum_{i=1}^{2}\\langle \\varphi_i |h(i)|\\varphi_i\\rangle+\\langle \\varphi_1\\varphi_2 |g(1,2)|\\varphi_1\\varphi_2\\rangle+\\frac{1}{X}$$"
   ]
  },
  {
   "attachments": {},
   "cell_type": "markdown",
   "id": "7c8620ff",
   "metadata": {},
   "source": [
    "The last term follows from the orthonormalization of the orbitals. By imposing the minimization of this quantity with the orthonormality constraint for the $\\varphi_i$, we obtain an eigenvalue problem:"
   ]
  },
  {
   "attachments": {},
   "cell_type": "markdown",
   "id": "15a11963",
   "metadata": {},
   "source": [
    "$$\\frac{\\delta E_{tot}}{\\delta \\varphi^*_k}=\\varepsilon_k \\varphi_k \\Longrightarrow \\mathbf{F}\\mathbf{C}=\\varepsilon \\mathbf{S}\\mathbf{C}$$"
   ]
  },
  {
   "attachments": {},
   "cell_type": "markdown",
   "id": "1bbc9a74",
   "metadata": {},
   "source": [
    "$$F_{rs}=h_{rs}+\\sum_{t,u}C_{t}C_{u}g_{rtsu}$$"
   ]
  },
  {
   "attachments": {},
   "cell_type": "markdown",
   "id": "1735b974",
   "metadata": {},
   "source": [
    "Now, both $\\mathbf{F}$ and $\\mathbf{S}$ matrices are symmetric. Remember deal with a non-orthogonal basis set, therefore, we have to solve a generalized eigenvalue problem. First, we find a matrix $\\mathbf{V}$ such that $\\mathbf{V}^T\\mathbf{S}\\mathbf{V}=\\mathbf{1}$"
   ]
  },
  {
   "attachments": {},
   "cell_type": "markdown",
   "id": "37e66b32",
   "metadata": {},
   "source": [
    "main: it creates the S, H, U, V matrices and the c vector. \n",
    "\n",
    "diag_S: it diagonalizes S finding the eigenvector matrix U. Then it computes V using U and the eigenvalues of S saved in L. \n",
    "\n",
    "create_H: similar to create_S, but some differences are to be pointed out. First, we scale the c vectors by alpha (remember that U contains the c vectors as columns). Then, it creates H (the Fock matrix) by adding h_pq and the direct term. \n",
    "\n",
    "solve_HC_eSC: it creates H' (after the second call to \"multiply\"). Next, it saves Vc' (the real eigenvectors of H) in U. Finally, it returns the first eigenvalue of H' (which is the same of H). \n",
    "\n"
   ]
  },
  {
   "cell_type": "code",
   "execution_count": null,
   "id": "9d5dfe88",
   "metadata": {
    "vscode": {
     "languageId": "plaintext"
    }
   },
   "outputs": [],
   "source": []
  }
 ],
 "metadata": {
  "kernelspec": {
   "display_name": "Python 3 (ipykernel)",
   "language": "python",
   "name": "python3"
  },
  "language_info": {
   "codemirror_mode": {
    "name": "ipython",
    "version": 3
   },
   "file_extension": ".py",
   "mimetype": "text/x-python",
   "name": "python",
   "nbconvert_exporter": "python",
   "pygments_lexer": "ipython3",
   "version": "3.8.1"
  }
 },
 "nbformat": 4,
 "nbformat_minor": 5
}
